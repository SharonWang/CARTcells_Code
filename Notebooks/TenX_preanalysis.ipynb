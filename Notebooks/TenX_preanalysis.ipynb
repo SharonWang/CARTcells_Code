{
 "cells": [
  {
   "cell_type": "markdown",
   "metadata": {},
   "source": [
    "# Preanalysis\n",
    "## Xiaonan Wang\n",
    "## 25/07/2017"
   ]
  },
  {
   "cell_type": "markdown",
   "metadata": {},
   "source": [
    "10 Samples in total:\n",
    "    - A1: PBMC-1\n",
    "    - A2: T-cells-1 (removed for further analysis)\n",
    "    - A4: PBMC-2\n",
    "    - B4: PBMC-3\n",
    "    - C4: T-cells-1\n",
    "    - D4: T-cells-2\n",
    "    - E4: T-cells-3\n",
    "    - F4: stimulated T-cells-1\n",
    "    - G4: Stimulated T-cells-2\n",
    "    - H4: Stimulated T-cells-3\n",
    "\n",
    "Types:\n",
    "    - P: PBMC\n",
    "    - D: Donor\n",
    "    - T: T-cell\n",
    "    - S: Stimulated\n",
    "\n",
    "3 Donors:\n",
    "    - D1P->D1T->D1S\n",
    "    - D2P->D2T->D2S\n",
    "    - D3T->D3T->D3S"
   ]
  },
  {
   "cell_type": "code",
   "execution_count": 1,
   "metadata": {
    "collapsed": true
   },
   "outputs": [],
   "source": [
    "# import modules, define some functions for loading, saving and processing a gene-barcode matrix\n",
    "%matplotlib inline\n",
    "import collections\n",
    "import matplotlib\n",
    "import matplotlib.pyplot as plt\n",
    "import numpy as np\n",
    "import pandas as pd\n",
    "import scipy.sparse as sp_sparse\n",
    "import tables\n",
    "\n",
    "np.random.seed(0)\n",
    "\n",
    "GeneBCMatrix = collections.namedtuple('GeneBCMatrix', ['gene_ids', 'gene_names', 'barcodes', 'matrix'])\n",
    "\n",
    "def get_matrix_from_h5(filename, genome):\n",
    "    with tables.open_file(filename, 'r') as f:\n",
    "        try:\n",
    "            dsets = {}\n",
    "            for node in f.walk_nodes('/' + genome, 'Array'):\n",
    "                dsets[node.name] = node.read()\n",
    "            matrix = sp_sparse.csc_matrix((dsets['data'], dsets['indices'], dsets['indptr']), shape=dsets['shape'])\n",
    "            return GeneBCMatrix(dsets['genes'], dsets['gene_names'], dsets['barcodes'], matrix)\n",
    "        except tables.NoSuchNodeError:\n",
    "            raise Exception(\"Genome %s does not exist in this file.\" % genome)\n",
    "        except KeyError:\n",
    "            raise Exception(\"File is missing one or more required datasets.\")\n",
    "\n",
    "def save_matrix_to_h5(gbm, filename, genome):\n",
    "    flt = tables.Filters(complevel=1)\n",
    "    with tables.open_file(filename, 'w', filters=flt) as f:\n",
    "        try:\n",
    "            group = f.create_group(f.root, genome)\n",
    "            f.create_carray(group, 'genes', obj=gbm.gene_ids)\n",
    "            f.create_carray(group, 'gene_names', obj=gbm.gene_names)\n",
    "            f.create_carray(group, 'barcodes', obj=gbm.barcodes)\n",
    "            f.create_carray(group, 'data', obj=gbm.matrix.data)\n",
    "            f.create_carray(group, 'indices', obj=gbm.matrix.indices)\n",
    "            f.create_carray(group, 'indptr', obj=gbm.matrix.indptr)\n",
    "            f.create_carray(group, 'shape', obj=gbm.matrix.shape)\n",
    "        except:\n",
    "            raise Exception(\"Failed to write H5 file.\")\n",
    "        \n",
    "def subsample_matrix(gbm, barcode_indices):\n",
    "    return GeneBCMatrix(gbm.gene_ids, gbm.gene_names, gbm.barcodes[barcode_indices], gbm.matrix[:, barcode_indices])\n",
    "\n",
    "def get_expression(gbm, gene_name):\n",
    "    gene_indices = np.where(gbm.gene_names == gene_name)[0]\n",
    "    if len(gene_indices) == 0:\n",
    "        raise Exception(\"%s was not found in list of gene names.\" % gene_name)\n",
    "    return gbm.matrix[gene_indices[0], :].toarray().squeeze()\n"
   ]
  },
  {
   "cell_type": "code",
   "execution_count": 3,
   "metadata": {
    "collapsed": true
   },
   "outputs": [],
   "source": [
    "h5_loc = \"/servers/lila-single-cell/Xiaonan/Fernando_TenX_SLX_11472_SLX_12473/SLX_12473_combined/fastq/\"\n",
    "h5_fn = [\"olds1\", \"olds2\",\"A4\", \"B4\", \"C4\", \"D4\", \"E4\", \"F4\", \"G4\", \"H4\"]"
   ]
  },
  {
   "cell_type": "code",
   "execution_count": 12,
   "metadata": {},
   "outputs": [],
   "source": [
    "a = get_matrix_from_h5(h5_loc+'B4'+'_novec_EC10k/outs/filtered_gene_bc_matrices_h5.h5', 'hg19')"
   ]
  },
  {
   "cell_type": "code",
   "execution_count": 13,
   "metadata": {},
   "outputs": [
    {
     "name": "stdout",
     "output_type": "stream",
     "text": [
      "['MIR1302-10' 'FAM138A' 'OR4F5' ..., 'CU459201.1' 'AC002321.2' 'AC002321.1']\n",
      "['ENSG00000243485' 'ENSG00000237613' 'ENSG00000186092' ...,\n",
      " 'ENSG00000251180' 'ENSG00000215616' 'ENSG00000215611']\n"
     ]
    }
   ],
   "source": [
    "print(a.gene_names)\n",
    "print(a.gene_ids)"
   ]
  },
  {
   "cell_type": "markdown",
   "metadata": {},
   "source": [
    "Now check which cells have been infected with MP22668 vector."
   ]
  },
  {
   "cell_type": "code",
   "execution_count": 16,
   "metadata": {},
   "outputs": [
    {
     "name": "stdout",
     "output_type": "stream",
     "text": [
      "Percentage of vector infection for A4 is 0.03%\n",
      "Percentage of vector infection for B4 is 0.04%\n",
      "Percentage of vector infection for C4 is 32.19%\n",
      "Percentage of vector infection for D4 is 19.71%\n",
      "Percentage of vector infection for E4 is 25.65%\n",
      "Percentage of vector infection for F4 is 24.11%\n",
      "Percentage of vector infection for G4 is 14.60%\n",
      "Percentage of vector infection for H4 is 26.12%\n",
      "Percentage of vector infection for A1 is 0.22%\n",
      "Percentage of vector infection for A2 is 47.20%\n"
     ]
    }
   ],
   "source": [
    "genome = \"hg19_MP22668_IFNB1_5LTR\"\n",
    "mp_cnt_array = [] # for ggplot\n",
    "mp_cells = {}\n",
    "mp_counts = {}\n",
    "for f in sorted(h5_fn):\n",
    "    mtx = get_matrix_from_h5(h5_loc+f+'_withvec_EC10k/outs/filtered_gene_bc_matrices_h5.h5', genome)\n",
    "    mp_exp = get_expression(mtx, \"IFNB1-5LTR\")\n",
    "    if f == \"olds1\":\n",
    "        f = \"A1\"\n",
    "    if f == \"olds2\":\n",
    "        f = \"A2\"\n",
    "    sample_df = pd.DataFrame(data = [mp_exp,[f]*len(mp_exp)], index = ['value','key']).transpose()\n",
    "    #print(\"Number of NAs: \" + str(sample_df['value'].isnull().sum()))\n",
    "    per_zero = float((sample_df['value']!=0).sum())*100/sample_df.shape[0]\n",
    "    print(\"Percentage of vector infection for \" + str(f) + \" is \" + str(\"%.2f\" % round(per_zero,2)) + \"%\")\n",
    "    mp_cnt_array.append(sample_df)\n",
    "    mp_cells[f] = mtx.barcodes[mp_exp!=0]\n",
    "    mp_counts[f] = mp_exp[mp_exp!=0]"
   ]
  },
  {
   "cell_type": "markdown",
   "metadata": {},
   "source": [
    "Make pandas data frame for plotting."
   ]
  },
  {
   "cell_type": "code",
   "execution_count": 4,
   "metadata": {},
   "outputs": [
    {
     "name": "stdout",
     "output_type": "stream",
     "text": [
      "(62127, 2)\n",
      "(11668, 2)\n",
      "['A4' 'B4' 'C4' 'D4' 'E4' 'F4' 'G4' 'H4' 'A1' 'A2']\n"
     ]
    }
   ],
   "source": [
    "# prepare data frame for plotting\n",
    "mp_cnt_df = pd.concat(mp_cnt_array) \n",
    "print(mp_cnt_df.shape)\n",
    "mp_cnt_df_nonzero = mp_cnt_df[mp_cnt_df['value']!=0]\n",
    "print(mp_cnt_df_nonzero.shape)\n",
    "#mp_cnt_df_nonzero.value = mp_cnt_df_nonzero.value.astype(float)\n",
    "#print(\"Number of NAs: \" + str(mp_cnt_df_nonzero['value'].isnull().sum()))\n",
    "#print(mp_cnt_df_nonzero.head())\n",
    "print(mp_cnt_df_nonzero['key'].unique())"
   ]
  },
  {
   "cell_type": "code",
   "execution_count": 8,
   "metadata": {},
   "outputs": [
    {
     "name": "stderr",
     "output_type": "stream",
     "text": [
      "/home/USSR/xw251/anaconda2/envs/mypython2/lib/python2.7/site-packages/ipykernel_launcher.py:2: SettingWithCopyWarning: \n",
      "A value is trying to be set on a copy of a slice from a DataFrame.\n",
      "Try using .loc[row_indexer,col_indexer] = value instead\n",
      "\n",
      "See the caveats in the documentation: http://pandas.pydata.org/pandas-docs/stable/indexing.html#indexing-view-versus-copy\n",
      "  \n"
     ]
    },
    {
     "data": {
      "image/png": "[encoded data removed]",
      "text/plain": [
       "<matplotlib.figure.Figure at 0x7fa2203a5e90>"
      ]
     },
     "metadata": {},
     "output_type": "display_data"
    },
    {
     "data": {
      "text/plain": [
       "<ggplot: (8770915346577)>"
      ]
     },
     "execution_count": 8,
     "metadata": {},
     "output_type": "execute_result"
    }
   ],
   "source": [
    "from ggplot import *\n",
    "mp_cnt_df_nonzero['log2_val'] = np.log2(mp_cnt_df_nonzero['value'].astype('float'))\n",
    "ggplot(aes(x='key', y='log2_val', fill='key'), data=mp_cnt_df_nonzero)+ geom_boxplot(outliers=False) "
   ]
  },
  {
   "cell_type": "markdown",
   "metadata": {},
   "source": [
    "Next to save data frames for further analysis using scanpy."
   ]
  },
  {
   "cell_type": "code",
   "execution_count": 58,
   "metadata": {},
   "outputs": [
    {
     "name": "stdout",
     "output_type": "stream",
     "text": [
      "A4\n",
      "(6015, 32738)\n",
      "B4\n",
      "(5551, 32738)\n",
      "C4\n",
      "(5854, 32738)\n",
      "D4\n",
      "(6148, 32738)\n",
      "E4\n",
      "(6879, 32738)\n",
      "F4\n",
      "(7222, 32738)\n",
      "G4\n",
      "(7363, 32738)\n",
      "H4\n",
      "(7091, 32738)\n",
      "olds1\n",
      "(5553, 32738)\n",
      "olds2\n",
      "(4521, 32738)\n",
      "(17119, 32738)\n",
      "(45078, 32738)\n",
      "(17119,)\n",
      "(17119,)\n",
      "(45078,)\n",
      "(45078,)\n"
     ]
    }
   ],
   "source": [
    "PBMC_sample = np.array([], dtype=np.int64).reshape(0,32738)\n",
    "Tcells_sample = np.array([], dtype=np.int64).reshape(0,32738)\n",
    "PBMC_colnames = np.array([])\n",
    "Tcells_colnames = np.array([])\n",
    "keys_PBMC = np.array([])\n",
    "mp_PBMC = np.array([])\n",
    "keys_Tcells = np.array([])\n",
    "mp_Tcells = np.array([])\n",
    "\n",
    "for f in sorted(h5_fn):\n",
    "    print(f)\n",
    "    mtx = get_matrix_from_h5(h5_loc+f+'_novec_EC10k/outs/filtered_gene_bc_matrices_h5.h5', genome_real)\n",
    "    if f == \"olds1\":\n",
    "        f = \"A1\"\n",
    "    if f == \"olds2\":\n",
    "        f = \"A2\"\n",
    "    print(mtx.matrix.transpose().shape)\n",
    "    if np.in1d(f, DP):\n",
    "        PBMC_sample= np.concatenate([PBMC_sample, mtx.matrix.toarray().transpose()])\n",
    "        #print(PBMC_sample.shape)\n",
    "        for bc in mtx.barcodes:\n",
    "            if np.in1d(bc, mp_cells[f]):\n",
    "                idx = np.where(mp_cells[f] == bc)[0]\n",
    "                mp_PBMC = np.concatenate([mp_PBMC, mp_counts[f][idx]])\n",
    "            else:\n",
    "                mp_PBMC = np.concatenate([mp_PBMC, [0]])\n",
    "        keys_PBMC = np.concatenate([keys_PBMC, [f]*len(mtx.barcodes)])\n",
    "        PBMC_colnames = np.concatenate([PBMC_colnames, [str(f)+'_'+ str(x) for x in mtx.barcodes]])\n",
    "    else:\n",
    "        Tcells_sample= np.concatenate([Tcells_sample, mtx.matrix.toarray().transpose()])\n",
    "        #print(Tcells_sample.shape)\n",
    "        for bc in mtx.barcodes:\n",
    "            if np.in1d(bc, mp_cells[f]):\n",
    "                idx = np.where(mp_cells[f] == bc)[0]\n",
    "                mp_Tcells = np.concatenate([mp_Tcells, mp_counts[f][idx]])\n",
    "            else:\n",
    "                mp_Tcells = np.concatenate([mp_Tcells, [0]])\n",
    "        keys_Tcells = np.concatenate([keys_Tcells, [f]*len(mtx.barcodes)])\n",
    "        Tcells_colnames = np.concatenate([Tcells_colnames, [str(f)+'_'+ str(x) for x in mtx.barcodes]])\n",
    "print(PBMC_sample.shape)\n",
    "print(Tcells_sample.shape)\n",
    "print(keys_PBMC.shape)\n",
    "print(mp_PBMC.shape)\n",
    "print(keys_Tcells.shape)\n",
    "print(mp_Tcells.shape)"
   ]
  },
  {
   "cell_type": "code",
   "execution_count": 59,
   "metadata": {
    "collapsed": true
   },
   "outputs": [],
   "source": [
    "np.savetxt(\"PBMC_key_labels.txt\", keys_PBMC, delimiter=\"\\t\",  fmt=\"%s\")\n",
    "np.savetxt(\"PBMC_mp_labels.txt\", mp_PBMC, delimiter=\"\\t\", fmt=\"%5i\")\n",
    "np.savetxt(\"Tcells_key_labels.txt\", keys_Tcells, delimiter=\"\\t\",  fmt=\"%s\")\n",
    "np.savetxt(\"Tcells_mp_labels.txt\", mp_Tcells, delimiter=\"\\t\", fmt=\"%5i\")\n",
    "np.savetxt(\"PBMC_colnames.txt\", PBMC_colnames, delimiter=\"\\t\",  fmt=\"%s\")\n",
    "np.savetxt(\"Tcells_colnames.txt\", Tcells_colnames, delimiter=\"\\t\", fmt=\"%s\")"
   ]
  },
  {
   "cell_type": "code",
   "execution_count": 53,
   "metadata": {},
   "outputs": [
    {
     "name": "stdout",
     "output_type": "stream",
     "text": [
      "CPU times: user 5min 26s, sys: 17.8 s, total: 5min 44s\n",
      "Wall time: 5min 50s\n"
     ]
    }
   ],
   "source": [
    "%%time\n",
    "np.savetxt(\"PBMC_cnt.txt\", PBMC_sample, delimiter=\"\\t\")"
   ]
  },
  {
   "cell_type": "code",
   "execution_count": 54,
   "metadata": {},
   "outputs": [
    {
     "name": "stdout",
     "output_type": "stream",
     "text": [
      "CPU times: user 14min 30s, sys: 50.6 s, total: 15min 21s\n",
      "Wall time: 15min 32s\n"
     ]
    }
   ],
   "source": [
    "%%time\n",
    "np.savetxt(\"Tcells_cnt.txt\", Tcells_sample, delimiter=\"\\t\")"
   ]
  },
  {
   "cell_type": "markdown",
   "metadata": {},
   "source": [
    "### Doublet removal"
   ]
  },
  {
   "cell_type": "code",
   "execution_count": 4,
   "metadata": {
    "collapsed": true
   },
   "outputs": [],
   "source": [
    "from doublet_detector import *"
   ]
  },
  {
   "cell_type": "code",
   "execution_count": 5,
   "metadata": {},
   "outputs": [
    {
     "name": "stdout",
     "output_type": "stream",
     "text": [
      "A4\n",
      "Total count normalizing\n",
      "Finding highly variable genes\n",
      "Using 1884 genes for PCA\n",
      "Simulating doublets\n",
      "Running KNN classifier with k = 120\n",
      "Done\n",
      "B4\n",
      "Total count normalizing\n",
      "Finding highly variable genes\n",
      "Using 1977 genes for PCA\n",
      "Simulating doublets\n",
      "Running KNN classifier with k = 120\n",
      "Done\n",
      "C4\n",
      "Total count normalizing\n",
      "Finding highly variable genes\n",
      "Using 2467 genes for PCA\n",
      "Simulating doublets\n",
      "Running KNN classifier with k = 120\n",
      "Done\n",
      "D4\n",
      "Total count normalizing\n",
      "Finding highly variable genes\n",
      "Using 2554 genes for PCA\n",
      "Simulating doublets\n",
      "Running KNN classifier with k = 120\n",
      "Done\n",
      "E4\n",
      "Total count normalizing\n",
      "Finding highly variable genes\n",
      "Using 1998 genes for PCA\n",
      "Simulating doublets\n",
      "Running KNN classifier with k = 120\n",
      "Done\n",
      "F4\n",
      "Total count normalizing\n",
      "Finding highly variable genes\n",
      "Using 2084 genes for PCA\n",
      "Simulating doublets\n",
      "Running KNN classifier with k = 120\n",
      "Done\n",
      "G4\n",
      "Total count normalizing\n",
      "Finding highly variable genes\n",
      "Using 2133 genes for PCA\n",
      "Simulating doublets\n",
      "Running KNN classifier with k = 120\n",
      "Done\n",
      "H4\n",
      "Total count normalizing\n",
      "Finding highly variable genes\n",
      "Using 1962 genes for PCA\n",
      "Simulating doublets\n",
      "Running KNN classifier with k = 120\n",
      "Done\n",
      "olds1\n",
      "Total count normalizing\n",
      "Finding highly variable genes\n",
      "Using 1726 genes for PCA\n",
      "Simulating doublets\n",
      "Running KNN classifier with k = 120\n",
      "Done\n",
      "olds2\n",
      "Total count normalizing\n",
      "Finding highly variable genes\n",
      "Using 2181 genes for PCA\n",
      "Simulating doublets\n",
      "Running KNN classifier with k = 120\n",
      "Done\n"
     ]
    }
   ],
   "source": [
    "genome_real = \"hg19\"\n",
    "PBMC_Dlet_score = []\n",
    "Tcells_Dlet_score = []\n",
    "for f in sorted(h5_fn):\n",
    "    print(f)\n",
    "    mtx = get_matrix_from_h5(h5_loc+f+'_novec_EC10k/outs/filtered_gene_bc_matrices_h5.h5', genome_real)\n",
    "    if f == \"olds1\":\n",
    "        f = \"A1\"\n",
    "    if f == \"olds2\":\n",
    "        f = \"A2\"\n",
    "    mtx_only = mtx.matrix.toarray().transpose()\n",
    "    Dlet = detect_doublets(mtx_only)\n",
    "    if np.in1d(f, DP):\n",
    "        PBMC_Dlet_score.append(Dlet[0])\n",
    "    else:\n",
    "        Tcells_Dlet_score.append(Dlet[0])"
   ]
  },
  {
   "cell_type": "code",
   "execution_count": 7,
   "metadata": {},
   "outputs": [
    {
     "name": "stdout",
     "output_type": "stream",
     "text": [
      "17119\n",
      "45078\n"
     ]
    }
   ],
   "source": [
    "print(len(np.hstack(PBMC_Dlet_score)))\n",
    "np.savetxt(\"PBMC_doublet_score.txt\", np.hstack(PBMC_Dlet_score), delimiter=\"\\t\")\n",
    "print(len(np.hstack(Tcells_Dlet_score)))\n",
    "np.savetxt(\"Tcells_doublet_score.txt\", np.hstack(Tcells_Dlet_score), delimiter=\"\\t\")"
   ]
  }
 ],
 "metadata": {
  "kernelspec": {
   "display_name": "Python 3",
   "language": "python",
   "name": "python3"
  },
  "language_info": {
   "codemirror_mode": {
    "name": "ipython",
    "version": 3
   },
   "file_extension": ".py",
   "mimetype": "text/x-python",
   "name": "python",
   "nbconvert_exporter": "python",
   "pygments_lexer": "ipython3",
   "version": "3.7.4"
  }
 },
 "nbformat": 4,
 "nbformat_minor": 2
}
