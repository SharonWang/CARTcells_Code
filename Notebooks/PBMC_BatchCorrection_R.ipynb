{
 "cells": [
  {
   "cell_type": "markdown",
   "metadata": {},
   "source": [
    "# Batch Correction using R\n",
    "## Xiaonan Wang\n",
    "## 27Oct2017"
   ]
  },
  {
   "cell_type": "code",
   "execution_count": 3,
   "metadata": {},
   "outputs": [
    {
     "name": "stderr",
     "output_type": "stream",
     "text": [
      "Loading required package: BiocParallel\n",
      "Loading required package: scater\n",
      "Loading required package: Biobase\n",
      "Loading required package: BiocGenerics\n",
      "Loading required package: parallel\n",
      "\n",
      "Attaching package: ‘BiocGenerics’\n",
      "\n",
      "The following objects are masked from ‘package:parallel’:\n",
      "\n",
      "    clusterApply, clusterApplyLB, clusterCall, clusterEvalQ,\n",
      "    clusterExport, clusterMap, parApply, parCapply, parLapply,\n",
      "    parLapplyLB, parRapply, parSapply, parSapplyLB\n",
      "\n",
      "The following objects are masked from ‘package:Matrix’:\n",
      "\n",
      "    colMeans, colSums, rowMeans, rowSums, which\n",
      "\n",
      "The following objects are masked from ‘package:stats’:\n",
      "\n",
      "    IQR, mad, sd, var, xtabs\n",
      "\n",
      "The following objects are masked from ‘package:base’:\n",
      "\n",
      "    anyDuplicated, append, as.data.frame, cbind, colMeans, colnames,\n",
      "    colSums, do.call, duplicated, eval, evalq, Filter, Find, get, grep,\n",
      "    grepl, intersect, is.unsorted, lapply, lengths, Map, mapply, match,\n",
      "    mget, order, paste, pmax, pmax.int, pmin, pmin.int, Position, rank,\n",
      "    rbind, Reduce, rowMeans, rownames, rowSums, sapply, setdiff, sort,\n",
      "    table, tapply, union, unique, unsplit, which, which.max, which.min\n",
      "\n",
      "Welcome to Bioconductor\n",
      "\n",
      "    Vignettes contain introductory material; view with\n",
      "    'browseVignettes()'. To cite Bioconductor, see\n",
      "    'citation(\"Biobase\")', and for packages 'citation(\"pkgname\")'.\n",
      "\n",
      "Loading required package: ggplot2\n",
      "\n",
      "Attaching package: ‘scater’\n",
      "\n",
      "The following object is masked from ‘package:stats’:\n",
      "\n",
      "    filter\n",
      "\n"
     ]
    }
   ],
   "source": [
    ".libPaths( c( .libPaths(), \"/home/USSR/xw251/programs/R-3.4.1/library/\") )\n",
    "library(\"Matrix\")\n",
    "library(\"data.table\")\n",
    "library(\"scran\")"
   ]
  },
  {
   "cell_type": "markdown",
   "metadata": {},
   "source": [
    "# PBMC data correction"
   ]
  },
  {
   "cell_type": "code",
   "execution_count": 10,
   "metadata": {},
   "outputs": [
    {
     "name": "stdout",
     "output_type": "stream",
     "text": [
      "[1] \"D1_PBMC_D1data_HVG_cnt.txt\" \"D1_PBMC_D2data_HVG_cnt.txt\"\n",
      "[3] \"D1_PBMC_D3data_HVG_cnt.txt\"\n"
     ]
    }
   ],
   "source": [
    "files <- list.files(pattern=\"D1_PBMC_.*_HVG_cnt.txt\")\n",
    "print(files)"
   ]
  },
  {
   "cell_type": "code",
   "execution_count": 11,
   "metadata": {},
   "outputs": [
    {
     "name": "stdout",
     "output_type": "stream",
     "text": [
      "[1] \"D1_PBMC_D1data_HVG_cnt.txt\"\n",
      "\r",
      "Read 0.0% of 5553 rows\r",
      "Read 5553 rows and 1607 (of 1607) columns from 0.215 GB file in 00:00:06\n",
      "[1] \"D1_PBMC_D2data_HVG_cnt.txt\"\n",
      "[1] \"D1_PBMC_D3data_HVG_cnt.txt\"\n"
     ]
    }
   ],
   "source": [
    "count <- lapply(files, function(x){\n",
    "    print(x)\n",
    "    t(fread(x))\n",
    "})"
   ]
  },
  {
   "cell_type": "code",
   "execution_count": 16,
   "metadata": {
    "collapsed": true
   },
   "outputs": [],
   "source": [
    "corrected <- mnnCorrect(count[[1]], count[[2]], count[[3]]) \n",
    "corrected_all <- do.call(\"cbind\", corrected[[1]])\n",
    "write.table(t(corrected_all), \"PBMC_corrected_all_hvg.txt\", quote=F, col.names=F, row.names=F, sep=\"\\t\")\n",
    "write.table(corrected[[2]], \"PBMC_corrected_info.txt\", quote=F, col.names=F, row.names=F, sep=\"\\t\")"
   ]
  }
 ],
 "metadata": {
  "kernelspec": {
   "display_name": "R 3.6.1",
   "language": "R",
   "name": "ir361"
  },
  "language_info": {
   "codemirror_mode": "r",
   "file_extension": ".r",
   "mimetype": "text/x-r-source",
   "name": "R",
   "pygments_lexer": "r",
   "version": "3.6.1"
  }
 },
 "nbformat": 4,
 "nbformat_minor": 2
}
